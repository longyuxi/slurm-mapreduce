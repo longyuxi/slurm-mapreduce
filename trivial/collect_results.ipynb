{
 "cells": [
  {
   "cell_type": "code",
   "execution_count": 11,
   "metadata": {},
   "outputs": [],
   "source": [
    "import sys\n",
    "from trivialdb import DB\n",
    "import redis\n",
    "\n",
    "key_prefix = 'trivial_'\n",
    "keys = DB.keys(key_prefix + '*')\n",
    "keys.sort()"
   ]
  },
  {
   "cell_type": "code",
   "execution_count": 12,
   "metadata": {},
   "outputs": [
    {
     "data": {
      "text/plain": [
       "['trivial_0',\n",
       " 'trivial_1',\n",
       " 'trivial_2',\n",
       " 'trivial_3',\n",
       " 'trivial_4',\n",
       " 'trivial_5',\n",
       " 'trivial_6',\n",
       " 'trivial_7',\n",
       " 'trivial_8',\n",
       " 'trivial_9']"
      ]
     },
     "execution_count": 12,
     "metadata": {},
     "output_type": "execute_result"
    }
   ],
   "source": [
    "keys"
   ]
  },
  {
   "cell_type": "code",
   "execution_count": 13,
   "metadata": {},
   "outputs": [
    {
     "data": {
      "text/plain": [
       "{'attempted': 'True',\n",
       " 'error': 'False',\n",
       " 'finished': 'True',\n",
       " 'x': '45',\n",
       " 'y': '2025'}"
      ]
     },
     "execution_count": 13,
     "metadata": {},
     "output_type": "execute_result"
    }
   ],
   "source": [
    "DB.hgetall(keys[0])"
   ]
  }
 ],
 "metadata": {
  "kernelspec": {
   "display_name": "tnet2017",
   "language": "python",
   "name": "python3"
  },
  "language_info": {
   "codemirror_mode": {
    "name": "ipython",
    "version": 3
   },
   "file_extension": ".py",
   "mimetype": "text/x-python",
   "name": "python",
   "nbconvert_exporter": "python",
   "pygments_lexer": "ipython3",
   "version": "3.10.11"
  }
 },
 "nbformat": 4,
 "nbformat_minor": 2
}
